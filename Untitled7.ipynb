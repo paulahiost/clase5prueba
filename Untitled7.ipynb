{
  "nbformat": 4,
  "nbformat_minor": 0,
  "metadata": {
    "colab": {
      "provenance": []
    },
    "kernelspec": {
      "name": "python3",
      "display_name": "Python 3"
    },
    "language_info": {
      "name": "python"
    }
  },
  "cells": [
    {
      "cell_type": "code",
      "source": [
        "a = int(input(\"ingrese un numero a: \"))\n",
        "b = int(input(\"ingrese un número b: \"))\n",
        "\n",
        "if a > b:\n",
        "  print(\"a es mayor que b\")\n",
        "elif b > a:\n",
        "  print(\"b es mayor que a\")\n",
        "else:\n",
        "    print(\"a es igual a b\")"
      ],
      "metadata": {
        "colab": {
          "base_uri": "https://localhost:8080/"
        },
        "id": "MRFeKyWpWDr6",
        "outputId": "0363ccc1-88cb-4252-ebe5-abbb3b8f1ace"
      },
      "execution_count": 8,
      "outputs": [
        {
          "output_type": "stream",
          "name": "stdout",
          "text": [
            "ingrese un numero a: 10\n",
            "ingrese un número b: 15\n",
            "b es mayor que a\n"
          ]
        }
      ]
    },
    {
      "cell_type": "code",
      "source": [
        "nota1 = int(input(\"Ingrese nota 1: \"))\n",
        "nota2 = int(input(\"Ingrese nota 2: \"))\n",
        "nota3 = int(input(\"Ingrese nota 3: \"))\n",
        "nota4 = int(input(\"Ingrese nota 4: \"))\n",
        "nota5 = int(input(\"Ingrese nota 5: \"))\n",
        "\n",
        "\n",
        "\n",
        "promedio=((nota1 * 0.3) + (nota2 * 0.15) +\n",
        "          (nota3 * 0.15) + (nota4 * 0.2) + (nota5 * 0.2))\n",
        "if promedio > 3:\n",
        "  print(\"aprobado\")\n",
        "else:\n",
        "    print(\"Reprobado\")\n",
        "\n",
        "print(promedio)\n",
        ""
      ],
      "metadata": {
        "colab": {
          "base_uri": "https://localhost:8080/"
        },
        "id": "ofHCoIQ_XplZ",
        "outputId": "f04f747d-2b86-4bb0-cef1-08a9d19e212f"
      },
      "execution_count": 14,
      "outputs": [
        {
          "output_type": "stream",
          "name": "stdout",
          "text": [
            "Ingrese nota 1: 5\n",
            "Ingrese nota 2: 5\n",
            "Ingrese nota 3: 5\n",
            "Ingrese nota 4: 5\n",
            "Ingrese nota 5: 5\n",
            "aprobado\n",
            "5.0\n"
          ]
        }
      ]
    },
    {
      "cell_type": "code",
      "source": [
        "y = int(input(\"y: \"))\n",
        "z = int(input(\"z: \"))\n",
        "\n"
      ],
      "metadata": {
        "id": "zZdN3PrzdHso"
      },
      "execution_count": null,
      "outputs": []
    },
    {
      "cell_type": "code",
      "source": [],
      "metadata": {
        "id": "VG7v8UiONslS"
      },
      "execution_count": null,
      "outputs": []
    }
  ]
}