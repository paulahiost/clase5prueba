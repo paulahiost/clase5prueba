{
  "nbformat": 4,
  "nbformat_minor": 0,
  "metadata": {
    "colab": {
      "provenance": []
    },
    "kernelspec": {
      "name": "python3",
      "display_name": "Python 3"
    },
    "language_info": {
      "name": "python"
    }
  },
  "cells": [
    {
      "cell_type": "code",
      "execution_count": null,
      "metadata": {
        "id": "Jt1hne7lLDpO"
      },
      "outputs": [],
      "source": [
        "y = int(input(\"Ingrese un número y: \"))\n",
        "z = int(input(\"Ingrese un número z: \"))\n",
        "\n",
        "if y > z:\n",
        "    x = 1\n",
        "    print(x)\n",
        "elif y < z:\n",
        "    x = 2\n",
        "    print(x)\n",
        "else:\n",
        "    x = 3\n",
        "    print(x)"
      ]
    },
    {
      "cell_type": "code",
      "source": [
        "a = int(input('Ingrese un numero a:'))\n",
        "b = int(input('Ingrese un numero b:'))\n",
        "c = int(input('ingrese un numero c:'))\n",
        "\n",
        "\n",
        "if a > b:\n",
        "    if b > c:\n",
        "        print(a,' ',b,' ',c)\n",
        "    elif a > c:\n",
        "        print(a,' ',c,' ',b)\n",
        "    else:\n",
        "        print(c,' ',b,' ',a,)\n",
        "else:\n",
        "    if b > c:\n",
        "        if c > a:\n",
        "            print(b,' ',c,'',a)\n",
        "        else:\n",
        "            print(b,' ',a,' ',c)\n",
        "    else:\n",
        "        print(c,' ',b,' ',a)"
      ],
      "metadata": {
        "id": "rKYD_o9TLFYv"
      },
      "execution_count": null,
      "outputs": []
    }
  ]
}